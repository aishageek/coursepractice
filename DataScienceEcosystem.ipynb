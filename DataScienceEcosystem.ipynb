{
 "cells": [
  {
   "cell_type": "markdown",
   "id": "a2b5539d-3dd9-4678-a423-736cb46da816",
   "metadata": {},
   "source": [
    " # Data Science Tools and Ecosystem\n"
   ]
  },
  {
   "cell_type": "markdown",
   "id": "668439a1-6ec5-447e-aa8f-b1dc0690c5f0",
   "metadata": {},
   "source": [
    "In this notebook, Data Science Tools and Ecosystem are summarized.\n"
   ]
  },
  {
   "cell_type": "markdown",
   "id": "f2d2e225-ffb9-4ddb-a7f3-bfeb76b20e51",
   "metadata": {},
   "source": [
    "Some of the popular languages that Data Scientists use are:\n",
    "1. Python\n",
    "2. R\n",
    "3. SQL\n",
    "4. Java"
   ]
  },
  {
   "cell_type": "markdown",
   "id": "2242da63-b003-4f0e-9bc9-27fa3af97a02",
   "metadata": {},
   "source": [
    "Some of the commonly used libraries used by Data Scientists include:\n",
    "1. Pandas\n",
    "2. Numpy\n",
    "3. Scikit-Learn\n",
    "4. Tensorflow"
   ]
  },
  {
   "cell_type": "markdown",
   "id": "25a442f5-278c-41ea-a31d-6f11057d1713",
   "metadata": {},
   "source": [
    "| Data Science Tools         |\n",
    "|:----------------------------:|\n",
    "| Jupyter Notebook           |\n",
    "| RStudio                    |\n",
    "| Apache Zeppelin            |\n"
   ]
  },
  {
   "cell_type": "markdown",
   "id": "103ad9d8-8c11-4bb9-96cc-ba8b4c12df6b",
   "metadata": {},
   "source": [
    "### Below are a few examples of evaluating arithmetic expressions in Python."
   ]
  },
  {
   "cell_type": "code",
   "execution_count": 2,
   "id": "f4235dd4-e759-492e-ad70-b3c0c6d206a0",
   "metadata": {},
   "outputs": [
    {
     "data": {
      "text/plain": [
       "17"
      ]
     },
     "execution_count": 2,
     "metadata": {},
     "output_type": "execute_result"
    }
   ],
   "source": [
    "# This a simple arithmetic expression to mutiply then add integers\n",
    "(3*4)+5"
   ]
  },
  {
   "cell_type": "code",
   "execution_count": 3,
   "id": "ceb729b9-1c0a-4598-8746-dbb9aacd678b",
   "metadata": {},
   "outputs": [
    {
     "data": {
      "text/plain": [
       "3.3333333333333335"
      ]
     },
     "execution_count": 3,
     "metadata": {},
     "output_type": "execute_result"
    }
   ],
   "source": [
    "# This will convert 200 minutes to hours by diving by 60\n",
    "h = 200 / 60\n",
    "h"
   ]
  },
  {
   "cell_type": "markdown",
   "id": "39a870df-742e-47f0-8c6c-ed468f28112f",
   "metadata": {},
   "source": [
    "**Objectives:**\n",
    "- List popular languages that Data Scientists use\n",
    "- List the commonly used libraries used by Data Scientists\n",
    "- Evaluate arithmetic expressions in python\n",
    "\n"
   ]
  },
  {
   "cell_type": "markdown",
   "id": "8fbe37e1-63fa-492a-bc65-e08d6634d0ca",
   "metadata": {},
   "source": [
    "## Author \n",
    "Aisha"
   ]
  }
 ],
 "metadata": {
  "kernelspec": {
   "display_name": "Python 3 (ipykernel)",
   "language": "python",
   "name": "python3"
  },
  "language_info": {
   "codemirror_mode": {
    "name": "ipython",
    "version": 3
   },
   "file_extension": ".py",
   "mimetype": "text/x-python",
   "name": "python",
   "nbconvert_exporter": "python",
   "pygments_lexer": "ipython3",
   "version": "3.12.7"
  }
 },
 "nbformat": 4,
 "nbformat_minor": 5
}
